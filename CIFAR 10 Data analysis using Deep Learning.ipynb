{
 "cells": [
  {
   "cell_type": "code",
   "execution_count": 1,
   "metadata": {
    "id": "GXQTc_W7YFdd"
   },
   "outputs": [],
   "source": [
    "# importing libraries\n",
    "%matplotlib inline\n",
    "import matplotlib.pyplot as plt\n",
    "import time\n",
    "import torchvision.transforms as transforms\n",
    "import torch\n",
    "import torchvision"
   ]
  },
  {
   "cell_type": "markdown",
   "metadata": {},
   "source": [
    "## Checking for Cuda"
   ]
  },
  {
   "cell_type": "code",
   "execution_count": 2,
   "metadata": {
    "colab": {
     "base_uri": "https://localhost:8080/"
    },
    "executionInfo": {
     "elapsed": 6161,
     "status": "ok",
     "timestamp": 1706977661049,
     "user": {
      "displayName": "Paulo Rauber",
      "userId": "08697591328641962840"
     },
     "user_tz": 0
    },
    "id": "P972v29oYIl0",
    "outputId": "a046e101-afd2-4bab-a8bf-626836d3bae0"
   },
   "outputs": [
    {
     "name": "stdout",
     "output_type": "stream",
     "text": [
      "Using cuda.\n"
     ]
    }
   ],
   "source": [
    "# checking if cuda is available\n",
    "device = torch.device('cuda' if torch.cuda.is_available() else 'cpu')\n",
    "print(f'Using {device}.')"
   ]
  },
  {
   "cell_type": "markdown",
   "metadata": {},
   "source": [
    "## Loading and Data Transforming CIFAR-10 dataset"
   ]
  },
  {
   "cell_type": "code",
   "execution_count": null,
   "metadata": {
    "id": "0qNQhcPoZE7k"
   },
   "outputs": [
    {
     "name": "stdout",
     "output_type": "stream",
     "text": [
      "Files already downloaded and verified\n",
      "Files already downloaded and verified\n"
     ]
    }
   ],
   "source": [
    "# defining data transformations for training and testing datasets\n",
    "transform_train = transforms.Compose([\n",
    "    transforms.RandomCrop(32, padding=4, padding_mode='reflect'),  # Randomly crop the image with reflection padding\n",
    "    transforms.RandomHorizontalFlip(),  # Randomly flip the image horizontally\n",
    "    transforms.ToTensor(),  # Convert the image to a PyTorch tensor\n",
    "    transforms.Normalize((-0.0028, -0.0045, -0.0044), (1.2187, 1.2189, 1.2989))  # Normalize the image tensor\n",
    "])\n",
    "\n",
    "transform_test = transforms.Compose([\n",
    "    transforms.ToTensor(),  # Convert the image to a PyTorch tensor\n",
    "    transforms.Normalize((-0.0028, -0.0045, -0.0044), (1.2187, 1.2189, 1.2989))  # Normalize the image tensor\n",
    "])\n",
    "\n",
    "# loading CIFAR-10 training dataset\n",
    "trainset = torchvision.datasets.CIFAR10(root='./data', train=True, download=True, transform=transform_train)\n",
    "# DataLoader for the training dataset\n",
    "trainloader = torch.utils.data.DataLoader(trainset, batch_size=128, shuffle=True, num_workers=3)\n",
    "\n",
    "# loading CIFAR-10 testing dataset\n",
    "testset = torchvision.datasets.CIFAR10(root='./data', train=False, download=True, transform=transform_test)\n",
    "# DataLoader for the testing dataset\n",
    "testloader = torch.utils.data.DataLoader(testset, batch_size=100, shuffle=False, num_workers=3)\n",
    "\n",
    "# Referenced from:\n",
    "# Das, K. (2020). CIFAR10 ResNet: 90+% accuracy;less than 5 min. Kaggle. Retrieved April 9, 2024, from\n",
    "# https://www.kaggle.com/code/kmldas/cifar10-resnet-90-accuracy-less-than-5-min"
   ]
  },
  {
   "cell_type": "markdown",
   "metadata": {},
   "source": [
    "## ResNet18 Architecture"
   ]
  },
  {
   "cell_type": "code",
   "execution_count": 4,
   "metadata": {
    "id": "UJ9YUgsRbzjj"
   },
   "outputs": [],
   "source": [
    "# adopted from week 8 ResNet lab  \n",
    "# defining a Residual Block module for the ResNet architecture\n",
    "class ResNetBlock(torch.nn.Module):\n",
    "    def __init__(self, input_channels, output_channels, stride=1):\n",
    "        super(ResNetBlock, self).__init__()\n",
    "\n",
    "        # First convolutional layer with batch normalization and ReLU activation\n",
    "        self.conv1 = torch.nn.Conv2d(input_channels, output_channels, kernel_size=3, padding=1, stride=stride)\n",
    "        self.bn1 = torch.nn.BatchNorm2d(output_channels)\n",
    "        self.relu1 = torch.nn.ReLU()\n",
    "\n",
    "        # Second convolutional layer with batch normalization\n",
    "        self.conv2 = torch.nn.Conv2d(output_channels, output_channels, kernel_size=3, padding=1)\n",
    "        self.bn2 = torch.nn.BatchNorm2d(output_channels)\n",
    "\n",
    "        # Third convolutional layer for adjusting dimensions which is optional\n",
    "        self.conv3 = None\n",
    "        if (input_channels != output_channels) or (stride != 1):\n",
    "            self.conv3 = torch.nn.Conv2d(input_channels, output_channels, kernel_size=1, stride=stride)\n",
    "\n",
    "        self.relu2 = torch.nn.ReLU()\n",
    "\n",
    "    def forward(self, x):\n",
    "        # passing through the first convolutional layer\n",
    "        out = self.conv1(x)\n",
    "        out = self.bn1(out)\n",
    "        out = self.relu1(out)\n",
    "\n",
    "        # passing through the second convolutional layer\n",
    "        out = self.conv2(out)\n",
    "        out = self.bn2(out)\n",
    "\n",
    "        # apply the third convolutional layer and add the residual, which is optional \n",
    "        if self.conv3:\n",
    "            out += self.conv3(x)\n",
    "        else:\n",
    "            out += x\n",
    "\n",
    "        # applying ReLU activation to the output\n",
    "        return self.relu2(out)"
   ]
  },
  {
   "cell_type": "code",
   "execution_count": 5,
   "metadata": {
    "id": "EDW3Jd_mdxdh"
   },
   "outputs": [],
   "source": [
    "# adopted from week 8 ResNet lab \n",
    "# macroblock in the ResNet architecture with two ResNet blocks\n",
    "class ResNetMacroblock(torch.nn.Module):\n",
    "    def __init__(self, input_channels, output_channels, first_macroblock=False):\n",
    "        super(ResNetMacroblock, self).__init__()\n",
    "\n",
    "        # determining the stride if it is the first macroblock or not\n",
    "        s = 1 if first_macroblock else 2\n",
    "\n",
    "        # first ResNet block\n",
    "        self.rb1 = ResNetBlock(input_channels, output_channels, stride=s)\n",
    "        # second ResNet block\n",
    "        self.rb2 = ResNetBlock(output_channels, output_channels, stride=1)\n",
    "\n",
    "    # passing through the macroblock\n",
    "    def forward(self, x):\n",
    "        # passing through the first ResNet block\n",
    "        out = self.rb1(x)\n",
    "        # passing through the second ResNet block\n",
    "        out = self.rb2(out)\n",
    "        return out"
   ]
  },
  {
   "cell_type": "code",
   "execution_count": 6,
   "metadata": {
    "id": "mb6ZCd5Ji5jR"
   },
   "outputs": [],
   "source": [
    "# adopted from week 8 ResNet lab \n",
    "# defining ResNet18 architecture\n",
    "class ResNet18(torch.nn.Module):\n",
    "    def __init__(self, num_outputs):\n",
    "        super(ResNet18, self).__init__()\n",
    "\n",
    "        # number of output classes\n",
    "        self.num_outputs = num_outputs\n",
    "\n",
    "        # initial convolutional layer\n",
    "        self.conv = torch.nn.Conv2d(3, 64, kernel_size=3, stride=1, padding=1, bias=False) \n",
    "        # batch normalization layer\n",
    "        self.bn = torch.nn.BatchNorm2d(64)\n",
    "        # activation function\n",
    "        self.relu = torch.nn.ReLU()\n",
    "        # max pooling layer\n",
    "        self.maxpool = torch.nn.MaxPool2d(kernel_size=3, stride=2, padding=1)\n",
    "\n",
    "        # ResNet macroblocks\n",
    "        self.rmb1 = ResNetMacroblock(64, 64, first_macroblock=True)\n",
    "        self.rmb2 = ResNetMacroblock(64, 128)\n",
    "        self.rmb3 = ResNetMacroblock(128, 256)\n",
    "        self.rmb4 = ResNetMacroblock(256, 512)\n",
    "\n",
    "        # adaptive average pooling layer\n",
    "        self.channel_avg = torch.nn.AdaptiveAvgPool2d((1, 1))\n",
    "        # flatting the output tensor\n",
    "        self.flatten = torch.nn.Flatten()\n",
    "        # defining the fully connected layer for classification\n",
    "        self.linear = torch.nn.Linear(512, self.num_outputs)\n",
    "\n",
    "    # passing through the network\n",
    "    def forward(self, x):\n",
    "        out = self.conv(x)\n",
    "        out = self.bn(out)\n",
    "        out = self.relu(out)\n",
    "        out = self.maxpool(out)\n",
    "\n",
    "        out = self.rmb1(out)\n",
    "        out = self.rmb2(out)\n",
    "        out = self.rmb3(out)\n",
    "        out = self.rmb4(out)\n",
    "\n",
    "        out = self.channel_avg(out)\n",
    "        out = self.flatten(out)\n",
    "        out = self.linear(out)\n",
    "\n",
    "        return out\n"
   ]
  },
  {
   "cell_type": "code",
   "execution_count": 7,
   "metadata": {
    "colab": {
     "base_uri": "https://localhost:8080/"
    },
    "executionInfo": {
     "elapsed": 257,
     "status": "ok",
     "timestamp": 1706977673398,
     "user": {
      "displayName": "Paulo Rauber",
      "userId": "08697591328641962840"
     },
     "user_tz": 0
    },
    "id": "mVm8CigRpT5z",
    "outputId": "355a5611-d7a5-4f52-aaad-e0cb61fa5b43"
   },
   "outputs": [
    {
     "data": {
      "text/plain": [
       "ResNet18(\n",
       "  (conv): Conv2d(3, 64, kernel_size=(3, 3), stride=(1, 1), padding=(1, 1), bias=False)\n",
       "  (bn): BatchNorm2d(64, eps=1e-05, momentum=0.1, affine=True, track_running_stats=True)\n",
       "  (relu): ReLU()\n",
       "  (maxpool): MaxPool2d(kernel_size=3, stride=2, padding=1, dilation=1, ceil_mode=False)\n",
       "  (rmb1): ResNetMacroblock(\n",
       "    (rb1): ResNetBlock(\n",
       "      (conv1): Conv2d(64, 64, kernel_size=(3, 3), stride=(1, 1), padding=(1, 1))\n",
       "      (bn1): BatchNorm2d(64, eps=1e-05, momentum=0.1, affine=True, track_running_stats=True)\n",
       "      (relu1): ReLU()\n",
       "      (conv2): Conv2d(64, 64, kernel_size=(3, 3), stride=(1, 1), padding=(1, 1))\n",
       "      (bn2): BatchNorm2d(64, eps=1e-05, momentum=0.1, affine=True, track_running_stats=True)\n",
       "      (relu2): ReLU()\n",
       "    )\n",
       "    (rb2): ResNetBlock(\n",
       "      (conv1): Conv2d(64, 64, kernel_size=(3, 3), stride=(1, 1), padding=(1, 1))\n",
       "      (bn1): BatchNorm2d(64, eps=1e-05, momentum=0.1, affine=True, track_running_stats=True)\n",
       "      (relu1): ReLU()\n",
       "      (conv2): Conv2d(64, 64, kernel_size=(3, 3), stride=(1, 1), padding=(1, 1))\n",
       "      (bn2): BatchNorm2d(64, eps=1e-05, momentum=0.1, affine=True, track_running_stats=True)\n",
       "      (relu2): ReLU()\n",
       "    )\n",
       "  )\n",
       "  (rmb2): ResNetMacroblock(\n",
       "    (rb1): ResNetBlock(\n",
       "      (conv1): Conv2d(64, 128, kernel_size=(3, 3), stride=(2, 2), padding=(1, 1))\n",
       "      (bn1): BatchNorm2d(128, eps=1e-05, momentum=0.1, affine=True, track_running_stats=True)\n",
       "      (relu1): ReLU()\n",
       "      (conv2): Conv2d(128, 128, kernel_size=(3, 3), stride=(1, 1), padding=(1, 1))\n",
       "      (bn2): BatchNorm2d(128, eps=1e-05, momentum=0.1, affine=True, track_running_stats=True)\n",
       "      (conv3): Conv2d(64, 128, kernel_size=(1, 1), stride=(2, 2))\n",
       "      (relu2): ReLU()\n",
       "    )\n",
       "    (rb2): ResNetBlock(\n",
       "      (conv1): Conv2d(128, 128, kernel_size=(3, 3), stride=(1, 1), padding=(1, 1))\n",
       "      (bn1): BatchNorm2d(128, eps=1e-05, momentum=0.1, affine=True, track_running_stats=True)\n",
       "      (relu1): ReLU()\n",
       "      (conv2): Conv2d(128, 128, kernel_size=(3, 3), stride=(1, 1), padding=(1, 1))\n",
       "      (bn2): BatchNorm2d(128, eps=1e-05, momentum=0.1, affine=True, track_running_stats=True)\n",
       "      (relu2): ReLU()\n",
       "    )\n",
       "  )\n",
       "  (rmb3): ResNetMacroblock(\n",
       "    (rb1): ResNetBlock(\n",
       "      (conv1): Conv2d(128, 256, kernel_size=(3, 3), stride=(2, 2), padding=(1, 1))\n",
       "      (bn1): BatchNorm2d(256, eps=1e-05, momentum=0.1, affine=True, track_running_stats=True)\n",
       "      (relu1): ReLU()\n",
       "      (conv2): Conv2d(256, 256, kernel_size=(3, 3), stride=(1, 1), padding=(1, 1))\n",
       "      (bn2): BatchNorm2d(256, eps=1e-05, momentum=0.1, affine=True, track_running_stats=True)\n",
       "      (conv3): Conv2d(128, 256, kernel_size=(1, 1), stride=(2, 2))\n",
       "      (relu2): ReLU()\n",
       "    )\n",
       "    (rb2): ResNetBlock(\n",
       "      (conv1): Conv2d(256, 256, kernel_size=(3, 3), stride=(1, 1), padding=(1, 1))\n",
       "      (bn1): BatchNorm2d(256, eps=1e-05, momentum=0.1, affine=True, track_running_stats=True)\n",
       "      (relu1): ReLU()\n",
       "      (conv2): Conv2d(256, 256, kernel_size=(3, 3), stride=(1, 1), padding=(1, 1))\n",
       "      (bn2): BatchNorm2d(256, eps=1e-05, momentum=0.1, affine=True, track_running_stats=True)\n",
       "      (relu2): ReLU()\n",
       "    )\n",
       "  )\n",
       "  (rmb4): ResNetMacroblock(\n",
       "    (rb1): ResNetBlock(\n",
       "      (conv1): Conv2d(256, 512, kernel_size=(3, 3), stride=(2, 2), padding=(1, 1))\n",
       "      (bn1): BatchNorm2d(512, eps=1e-05, momentum=0.1, affine=True, track_running_stats=True)\n",
       "      (relu1): ReLU()\n",
       "      (conv2): Conv2d(512, 512, kernel_size=(3, 3), stride=(1, 1), padding=(1, 1))\n",
       "      (bn2): BatchNorm2d(512, eps=1e-05, momentum=0.1, affine=True, track_running_stats=True)\n",
       "      (conv3): Conv2d(256, 512, kernel_size=(1, 1), stride=(2, 2))\n",
       "      (relu2): ReLU()\n",
       "    )\n",
       "    (rb2): ResNetBlock(\n",
       "      (conv1): Conv2d(512, 512, kernel_size=(3, 3), stride=(1, 1), padding=(1, 1))\n",
       "      (bn1): BatchNorm2d(512, eps=1e-05, momentum=0.1, affine=True, track_running_stats=True)\n",
       "      (relu1): ReLU()\n",
       "      (conv2): Conv2d(512, 512, kernel_size=(3, 3), stride=(1, 1), padding=(1, 1))\n",
       "      (bn2): BatchNorm2d(512, eps=1e-05, momentum=0.1, affine=True, track_running_stats=True)\n",
       "      (relu2): ReLU()\n",
       "    )\n",
       "  )\n",
       "  (channel_avg): AdaptiveAvgPool2d(output_size=(1, 1))\n",
       "  (flatten): Flatten(start_dim=1, end_dim=-1)\n",
       "  (linear): Linear(in_features=512, out_features=10, bias=True)\n",
       ")"
      ]
     },
     "execution_count": 7,
     "metadata": {},
     "output_type": "execute_result"
    }
   ],
   "source": [
    "# Applies Xavier initialization \n",
    "def init_weights(m):\n",
    "    if type(m) == torch.nn.Linear or type(m) == torch.nn.Conv2d:\n",
    "        torch.nn.init.xavier_uniform_(m.weight)\n",
    "\n",
    "# an instance of the ResNet18 model with 10 output classes and moving it to the device\n",
    "model = ResNet18(10).to(device) \n",
    "\n",
    "model.apply(init_weights) # Applies `init_weights` to every `torch.nn.Module` inside `model`"
   ]
  },
  {
   "cell_type": "markdown",
   "metadata": {
    "id": "I1bWZuTTpr0-"
   },
   "source": [
    "## Loss function\n"
   ]
  },
  {
   "cell_type": "code",
   "execution_count": 8,
   "metadata": {
    "id": "N60NFd7Qpwzu"
   },
   "outputs": [],
   "source": [
    "# calculating loss with Cross Entropy Loss\n",
    "criterion = torch.nn.CrossEntropyLoss()"
   ]
  },
  {
   "cell_type": "markdown",
   "metadata": {
    "id": "EFGyPE1LpynB"
   },
   "source": [
    "## Optimization Algorithm\n"
   ]
  },
  {
   "cell_type": "code",
   "execution_count": 9,
   "metadata": {
    "id": "qXHtHHaCpz0f"
   },
   "outputs": [],
   "source": [
    "# Adam optimizer with learning rate 0.02\n",
    "optimizer = torch.optim.Adam(model.parameters(), lr=0.02)\n",
    "\n",
    "# Referenced from:\n",
    "# Das, K. (2020). CIFAR10 ResNet: 90+% accuracy;less than 5 min. Kaggle. Retrieved April 9, 2024, from\n",
    "# https://www.kaggle.com/code/kmldas/cifar10-resnet-90-accuracy-less-than-5-min"
   ]
  },
  {
   "cell_type": "markdown",
   "metadata": {},
   "source": [
    "## Learning Rate Scheduler"
   ]
  },
  {
   "cell_type": "code",
   "execution_count": 10,
   "metadata": {},
   "outputs": [],
   "source": [
    "# learning rate scheduler with OneCycleLR, starting lr=0.02, total epochs=30, and steps per epoch equal to the length of the trainloader\n",
    "scheduler = torch.optim.lr_scheduler.OneCycleLR(optimizer, max_lr=0.02, total_steps=30*len(trainloader))\n",
    "\n",
    "# Referenced from:\n",
    "# Das, K. (2020). CIFAR10 ResNet: 90+% accuracy;less than 5 min. Kaggle. Retrieved April 9, 2024, from\n",
    "# https://www.kaggle.com/code/kmldas/cifar10-resnet-90-accuracy-less-than-5-min"
   ]
  },
  {
   "cell_type": "markdown",
   "metadata": {},
   "source": [
    "## Training and Testing "
   ]
  },
  {
   "cell_type": "code",
   "execution_count": 11,
   "metadata": {
    "colab": {
     "base_uri": "https://localhost:8080/",
     "height": 1000
    },
    "executionInfo": {
     "elapsed": 2224060,
     "status": "ok",
     "timestamp": 1706979958394,
     "user": {
      "displayName": "Paulo Rauber",
      "userId": "08697591328641962840"
     },
     "user_tz": 0
    },
    "id": "oSL5i_VSqUg4",
    "outputId": "90244ebc-a724-4b05-e580-f9651922bac3"
   },
   "outputs": [
    {
     "name": "stdout",
     "output_type": "stream",
     "text": [
      "Epoch 0\n"
     ]
    },
    {
     "name": "stderr",
     "output_type": "stream",
     "text": [
      "/opt/conda/lib/python3.11/site-packages/torch/optim/lr_scheduler.py:136: UserWarning: Detected call of `lr_scheduler.step()` before `optimizer.step()`. In PyTorch 1.1.0 and later, you should call them in the opposite order: `optimizer.step()` before `lr_scheduler.step()`.  Failure to do this will result in PyTorch skipping the first value of the learning rate schedule. See more details at https://pytorch.org/docs/stable/optim.html#how-to-adjust-learning-rate\n",
      "  warnings.warn(\"Detected call of `lr_scheduler.step()` before `optimizer.step()`. \"\n",
      "/opt/conda/lib/python3.11/site-packages/torch/nn/modules/conv.py:456: UserWarning: Applied workaround for CuDNN issue, install nvrtc.so (Triggered internally at /opt/conda/conda-bld/pytorch_1702400440653/work/aten/src/ATen/native/cudnn/Conv_v8.cpp:80.)\n",
      "  return F.conv2d(input, weight, bias, self.stride,\n"
     ]
    },
    {
     "name": "stdout",
     "output_type": "stream",
     "text": [
      "Train Accuracy: 50.178\n",
      "Test Accuracy: 58.64\n",
      "Epoch 1\n",
      "Train Accuracy: 66.26\n",
      "Test Accuracy: 70.21\n",
      "Epoch 2\n",
      "Train Accuracy: 72.672\n",
      "Test Accuracy: 76.01\n",
      "Epoch 3\n",
      "Train Accuracy: 76.252\n",
      "Test Accuracy: 68.66\n",
      "Epoch 4\n",
      "Train Accuracy: 79.114\n",
      "Test Accuracy: 78.76\n",
      "Epoch 5\n",
      "Train Accuracy: 81.148\n",
      "Test Accuracy: 77.1\n",
      "Epoch 6\n",
      "Train Accuracy: 82.568\n",
      "Test Accuracy: 80.82\n",
      "Epoch 7\n",
      "Train Accuracy: 83.954\n",
      "Test Accuracy: 82.32\n",
      "Epoch 8\n",
      "Train Accuracy: 84.982\n",
      "Test Accuracy: 82.74\n",
      "Epoch 9\n",
      "Train Accuracy: 85.972\n",
      "Test Accuracy: 83.15\n",
      "Epoch 10\n",
      "Train Accuracy: 86.634\n",
      "Test Accuracy: 82.39\n",
      "Epoch 11\n",
      "Train Accuracy: 87.258\n",
      "Test Accuracy: 84.8\n",
      "Epoch 12\n",
      "Train Accuracy: 88.5\n",
      "Test Accuracy: 84.17\n",
      "Epoch 13\n",
      "Train Accuracy: 88.784\n",
      "Test Accuracy: 83.76\n",
      "Epoch 14\n",
      "Train Accuracy: 89.278\n",
      "Test Accuracy: 85.69\n",
      "Epoch 15\n",
      "Train Accuracy: 89.86\n",
      "Test Accuracy: 85.9\n",
      "Epoch 16\n",
      "Train Accuracy: 90.364\n",
      "Test Accuracy: 84.68\n",
      "Epoch 17\n",
      "Train Accuracy: 90.744\n",
      "Test Accuracy: 86.41\n",
      "Epoch 18\n",
      "Train Accuracy: 91.23\n",
      "Test Accuracy: 87.78\n",
      "Epoch 19\n",
      "Train Accuracy: 91.474\n",
      "Test Accuracy: 87.96\n",
      "Epoch 20\n",
      "Train Accuracy: 91.942\n",
      "Test Accuracy: 88.55\n",
      "Epoch 21\n",
      "Train Accuracy: 92.182\n",
      "Test Accuracy: 84.84\n",
      "Epoch 22\n",
      "Train Accuracy: 92.472\n",
      "Test Accuracy: 86.53\n",
      "Epoch 23\n",
      "Train Accuracy: 92.794\n",
      "Test Accuracy: 86.6\n",
      "Epoch 24\n",
      "Train Accuracy: 93.006\n",
      "Test Accuracy: 87.41\n",
      "Epoch 25\n",
      "Train Accuracy: 93.236\n",
      "Test Accuracy: 88.04\n",
      "Epoch 26\n",
      "Train Accuracy: 93.612\n",
      "Test Accuracy: 86.67\n",
      "Epoch 27\n",
      "Train Accuracy: 93.9\n",
      "Test Accuracy: 88.15\n",
      "Epoch 28\n",
      "Train Accuracy: 93.91\n",
      "Test Accuracy: 88.28\n",
      "Epoch 29\n",
      "Train Accuracy: 94.278\n",
      "Test Accuracy: 86.59\n",
      "Best Test Accuracy: 88.55% achieved at epoch 20\n"
     ]
    }
   ],
   "source": [
    "# Initializing variables \n",
    "train_correct_total = 0\n",
    "train_total_samples = 0\n",
    "test_correct_total = 0\n",
    "test_total_samples = 0\n",
    "train_losses = []  \n",
    "train_accuracies = []  \n",
    "test_accuracies = []  \n",
    "\n",
    "# Training the network\n",
    "def train(epoch):\n",
    "    global train_correct_total, train_total_samples\n",
    "    print(\"Epoch \" + str(epoch))\n",
    "    model.train()  # setting model to training mode\n",
    "    train_loss = 0\n",
    "    correct = 0\n",
    "    total = 0\n",
    "    for batch_idx, (inputs, targets) in enumerate(trainloader):\n",
    "        inputs, targets = inputs.to(device), targets.to(device)\n",
    "        optimizer.zero_grad()  \n",
    "        outputs = model(inputs)  \n",
    "        loss = criterion(outputs, targets) \n",
    "        loss.backward()  \n",
    "        optimizer.step()  \n",
    "\n",
    "        train_loss += loss.item()  \n",
    "        _, predicted = outputs.max(1) \n",
    "        total += targets.size(0)  \n",
    "        correct += predicted.eq(targets).sum().item()  \n",
    "    \n",
    "    # collecting correct predictions and total samples for training\n",
    "    train_correct_total += correct\n",
    "    train_total_samples += total\n",
    "    train_accuracy = 100.*correct/total  # calculating training accuracy\n",
    "    train_accuracies.append(train_accuracy)  \n",
    "    train_losses.append(train_loss / len(trainloader))  \n",
    "\n",
    "    print('Train Accuracy: ' +  str(train_accuracy))\n",
    "\n",
    "# Testing the network\n",
    "def test(epoch):\n",
    "    global best_acc, test_correct_total, test_total_samples\n",
    "    model.eval()  # setting model to evaluation mode\n",
    "    test_loss = 0\n",
    "    correct = 0\n",
    "    total = 0\n",
    "    with torch.no_grad():\n",
    "        for batch_idx, (inputs, targets) in enumerate(testloader):\n",
    "            inputs, targets = inputs.to(device), targets.to(device)\n",
    "            outputs = model(inputs) \n",
    "            loss = criterion(outputs, targets) \n",
    "\n",
    "            test_loss += loss.item() \n",
    "            _, predicted = outputs.max(1) \n",
    "            total += targets.size(0)  \n",
    "            correct += predicted.eq(targets).sum().item()  \n",
    "    \n",
    "    # collecting correct predictions and total samples for testing\n",
    "    test_correct_total += correct\n",
    "    test_total_samples += total\n",
    "    test_accuracy = 100.*correct/total  # calculating testing accuracy\n",
    "    test_accuracies.append(test_accuracy)  \n",
    "\n",
    "    print('Test Accuracy: ' +  str(test_accuracy))\n",
    "\n",
    "best_acc = 0\n",
    "best_epoch = 0\n",
    "start_epoch = 0\n",
    "num_epochs = 30\n",
    "\n",
    "for epoch in range(start_epoch, start_epoch+num_epochs):\n",
    "    scheduler.step()  # updating the learning rate scheduler\n",
    "    train(epoch)  # training model for one epoch\n",
    "    test(epoch)  # testing model on the testing dataset\n",
    "    \n",
    "    if test_accuracies[-1] > best_acc:\n",
    "        best_acc = test_accuracies[-1]\n",
    "        best_epoch = epoch\n",
    "        \n",
    "print(\"Best Test Accuracy: {:.2f}% achieved at epoch {}\".format(best_acc, best_epoch))\n"
   ]
  },
  {
   "cell_type": "markdown",
   "metadata": {},
   "source": [
    "## Plotting Results"
   ]
  },
  {
   "cell_type": "code",
   "execution_count": 12,
   "metadata": {},
   "outputs": [
    {
     "data": {
      "image/png": "[encoded data removed]",
      "text/plain": [
       "<Figure size 1000x500 with 1 Axes>"
      ]
     },
     "metadata": {},
     "output_type": "display_data"
    },
    {
     "data": {
      "image/png": "[encoded data removed]",
      "text/plain": [
       "<Figure size 1000x500 with 1 Axes>"
      ]
     },
     "metadata": {},
     "output_type": "display_data"
    }
   ],
   "source": [
    "# plotting loss for each training batch\n",
    "plt.figure(figsize=(10, 5))\n",
    "plt.plot(train_losses, label='Training Loss')\n",
    "plt.xlabel('Training Batch')\n",
    "plt.ylabel('Loss')\n",
    "plt.title('Loss for Each Training Batch')\n",
    "plt.legend()\n",
    "plt.show()\n",
    "\n",
    "# plotting training and testing accuracy for each training epoch\n",
    "plt.figure(figsize=(10, 5))\n",
    "plt.plot(range(start_epoch, num_epochs), train_accuracies, label='Training Accuracy')\n",
    "plt.plot(range(start_epoch, num_epochs), test_accuracies, label='Testing Accuracy')\n",
    "plt.xlabel('Epoch')\n",
    "plt.ylabel('Accuracy (%)')\n",
    "plt.title('Training and Testing Accuracy for Each Epoch')\n",
    "plt.legend()\n",
    "plt.show()"
   ]
  }
 ],
 "metadata": {
  "accelerator": "GPU",
  "celltoolbar": "Slideshow",
  "colab": {
   "gpuType": "T4",
   "provenance": []
  },
  "kernelspec": {
   "display_name": "Python 3 (ipykernel)",
   "language": "python",
   "name": "python3"
  },
  "language_info": {
   "codemirror_mode": {
    "name": "ipython",
    "version": 3
   },
   "file_extension": ".py",
   "mimetype": "text/x-python",
   "name": "python",
   "nbconvert_exporter": "python",
   "pygments_lexer": "ipython3",
   "version": "3.11.7"
  }
 },
 "nbformat": 4,
 "nbformat_minor": 4
}
